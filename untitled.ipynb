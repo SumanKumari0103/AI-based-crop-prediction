{
  "nbformat": 4,
  "nbformat_minor": 0,
  "metadata": {
    "colab": {
      "provenance": [],
      "include_colab_link": true
    },
    "kernelspec": {
      "name": "python3",
      "display_name": "Python 3"
    },
    "language_info": {
      "name": "python"
    }
  },
  "cells": [
    {
      "cell_type": "markdown",
      "metadata": {
        "id": "view-in-github",
        "colab_type": "text"
      },
      "source": [
        "<a href=\"https://colab.research.google.com/github/SumanKumari0103/AI-based-crop-prediction/blob/main/untitled.ipynb\" target=\"_parent\"><img src=\"https://colab.research.google.com/assets/colab-badge.svg\" alt=\"Open In Colab\"/></a>"
      ]
    },
    {
      "cell_type": "code",
      "execution_count": 2,
      "metadata": {
        "id": "KLvaRUlqG8g2"
      },
      "outputs": [],
      "source": [
        "import numpy as np\n",
        "import pandas as pd\n",
        "import matplotlib.pyplot as plt\n",
        "import seaborn as sns\n",
        "import scipy.stats as stats"
      ]
    },
    {
      "cell_type": "code",
      "source": [
        "df1= pd.read_csv('apples.csv')\n",
        "df2=pd.read_csv('apricots.csv')\n",
        "df3=pd.read_csv('areca nuts.csv')\n",
        "df4=pd.read_csv('bananas.csv')\n",
        "df5=pd.read_csv('barley.csv')\n",
        "df6=pd.read_csv('beans dry.csv')\n",
        "df7=pd.read_csv('beans green.csv')\n",
        "df8=pd.read_csv('cabbage.csv')\n",
        "df9=pd.read_csv('carrots.csv')\n",
        "df10=pd.read_csv('cashewnuts.csv')\n",
        "df11=pd.read_csv('cauliflower.csv')\n",
        "df12=pd.read_csv('cherries.csv')\n",
        "df13=pd.read_csv('chilli dry.csv')\n",
        "df14=pd.read_csv('chilli green.csv')\n",
        "df15=pd.read_csv('coconuts.csv')\n",
        "df16=pd.read_csv('coffee.csv')\n",
        "df17=pd.read_csv('cucumber.csv')\n",
        "df18=pd.read_csv('eggplant.csv')\n",
        "df19=pd.read_csv('fennel coriander.csv')\n",
        "df20=pd.read_csv('garlic.csv')\n",
        "df21=pd.read_csv('ginger.csv')\n",
        "df22=pd.read_csv('grapes.csv')\n",
        "df23=pd.read_csv('groundnuts.csv')\n",
        "df24=pd.read_csv('lemons.csv')\n",
        "df25=pd.read_csv('lentils.csv')\n",
        "df26=pd.read_csv('lettuce.csv')\n",
        "df27=pd.read_csv('maize.csv')\n",
        "df28=pd.read_csv('mangoes.csv')\n",
        "df29=pd.read_csv('melons.csv')\n",
        "df30=pd.read_csv('nutmeg.csv')\n",
        "df31=pd.read_csv('okra.csv')\n",
        "df32=pd.read_csv('onions.csv')\n",
        "df33=pd.read_csv('oranges.csv')\n",
        "df34=pd.read_csv('papaya.csv')\n",
        "df35=pd.read_csv('peaches.csv')\n",
        "df36=pd.read_csv('pears.csv')\n",
        "df37=pd.read_csv('peas.csv')\n",
        "df38=pd.read_csv('pepper.csv')\n",
        "df39=pd.read_csv('pineapples.csv')\n",
        "df40=pd.read_csv('potatoes.csv')\n",
        "df41=pd.read_csv('pumpkins.csv')\n",
        "df42=pd.read_csv('rainfall.csv')\n",
        "df43=pd.read_csv('rice.csv')\n",
        "df44=pd.read_csv('safflower.csv')\n",
        "df45=pd.read_csv('sesame.csv')\n",
        "df46=pd.read_csv('soyabean.csv')\n",
        "df47=pd.read_csv('sugarcane.csv')\n",
        "df48=pd.read_csv('temperature.csv')\n",
        "df49=pd.read_csv('tomatoes.csv')\n",
        "df50=pd.read_csv('watermelon.csv')\n",
        "df51=pd.read_csv('wheat.csv')"
      ],
      "metadata": {
        "id": "Ryar5nxvhz9D"
      },
      "execution_count": 7,
      "outputs": []
    }
  ]
}